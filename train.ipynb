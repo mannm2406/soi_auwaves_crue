{
 "cells": [
  {
   "cell_type": "markdown",
   "metadata": {},
   "source": [
    "### Importing Libraries"
   ]
  },
  {
   "cell_type": "code",
   "execution_count": null,
   "metadata": {},
   "outputs": [],
   "source": [
    "import torch\n",
    "from torch import nn\n",
    "import torch.nn.functional as F\n",
    "import matplotlib.pyplot as plt\n",
    "from torch.utils.data import DataLoader, Dataset\n",
    "from torchvision import transforms\n",
    "import pandas as pd\n",
    "from PIL import Image\n",
    "from sklearn.model_selection import train_test_split\n",
    "import os"
   ]
  },
  {
   "cell_type": "markdown",
   "metadata": {},
   "source": [
    "### Reading train.csv and Data Analysis"
   ]
  },
  {
   "cell_type": "code",
   "execution_count": null,
   "metadata": {},
   "outputs": [],
   "source": [
    "train_csv = pd.read_csv(\"train.csv\") # Imported the csv file\n",
    "print(train_csv.shape)\n",
    "## Mappings for converting labels to integers and vice-versa\n",
    "label_to_int_map = {\n",
    "    'bright dune':0,\n",
    "    'dark dune':1,\n",
    "    'spider':2,\n",
    "    'impact ejecta':3,\n",
    "    'slope streak':4,\n",
    "    'swiss cheese':5,\n",
    "    'crater':6,\n",
    "    'other':7\n",
    "} \n",
    "int_to_label_map = {v:k for k, v in label_to_int_map.items()}"
   ]
  },
  {
   "cell_type": "code",
   "execution_count": null,
   "metadata": {},
   "outputs": [],
   "source": [
    "file_names, labels = train_csv['File Name'], train_csv['Class'] \n",
    "pd.set_option('future.no_silent_downcasting', True)\n",
    "labels_int = labels.replace(label_to_int_map).to_list() #Converting labels from text to integers\n",
    "\n",
    "new_file_names = []\n",
    "for file_name in file_names:\n",
    "    new_file_names.append(os.path.join('train_dataset', file_name)) ## file name with path\n",
    "\n",
    "## Splitting files from train_dataset train and test splits\n",
    "x_train, x_test, y_train, y_test = train_test_split(new_file_names, labels_int, test_size=0.2) \n",
    "\n",
    "## Train and Test dataframes containing file names and integer label columns\n",
    "train_df = pd.concat([pd.Series(x_train), pd.Series(y_train)], axis=1)\n",
    "test_df = pd.concat([pd.Series(x_test), pd.Series(y_test)], axis=1)"
   ]
  },
  {
   "cell_type": "code",
   "execution_count": null,
   "metadata": {},
   "outputs": [],
   "source": [
    "## Plotting the frequencies of different types of images available in the dataset, and training-testing splits\n",
    "\n",
    "freq = pd.Series(labels_int).value_counts()\n",
    "freq_train = train_df[1].value_counts()\n",
    "freq_test = test_df[1].value_counts()\n",
    "\n",
    "fig, ax = plt.subplots(1,3)\n",
    "\n",
    "ax[0].bar([int_to_label_map[lab] for lab in freq.index ], freq)\n",
    "ax[1].bar([int_to_label_map[lab] for lab in freq_train.index ], freq_train)\n",
    "ax[2].bar([int_to_label_map[lab] for lab in freq_test.index ], freq_test)\n",
    "\n",
    "ax[0].tick_params('x', labelrotation = 90)\n",
    "ax[1].tick_params('x', labelrotation = 90)\n",
    "ax[2].tick_params('x', labelrotation = 90)\n",
    "\n",
    "ax[0].set_title(\"Entire Dataset\")\n",
    "ax[1].set_title(\"Training Set\")\n",
    "ax[2].set_title(\"Testing Set\")\n",
    "\n",
    "fig.set_figwidth(15)\n",
    "fig.set_figheight(4)\n",
    "plt.show()"
   ]
  },
  {
   "cell_type": "markdown",
   "metadata": {},
   "source": [
    "### Importing the Images and creation of iterators for training\n",
    "Images are imported as a PyTorch Dataset based on the filenames in the training and testing dataframes and the iterators are initiated"
   ]
  },
  {
   "cell_type": "code",
   "execution_count": null,
   "metadata": {},
   "outputs": [],
   "source": [
    "''' \n",
    "Creating a class that will take in the train/test filenames dataframe\n",
    "as input and import and store images as a tuple: (image tensor, integer label)\n",
    "\n",
    "'''\n",
    "class MarsImgDataset(Dataset):\n",
    "    def __init__(self, img_df, transform = None):\n",
    "        super().__init__()\n",
    "        self.frame = img_df\n",
    "        self.transform = transform\n",
    "\n",
    "    def __len__(self):\n",
    "        return len(self.frame)\n",
    "    \n",
    "    def __getitem__(self, idx):\n",
    "        if torch.is_tensor(idx):\n",
    "            idx = idx.tolist()\n",
    "\n",
    "        img_name = self.frame.iloc[idx, 0]\n",
    "        image = Image.open(img_name)\n",
    "\n",
    "        if self.transform:\n",
    "            image = self.transform(image)\n",
    "\n",
    "        label = self.frame.iloc[idx, 1]\n",
    "        sample = (image, label)\n",
    "        \n",
    "        return sample"
   ]
  },
  {
   "cell_type": "code",
   "execution_count": null,
   "metadata": {},
   "outputs": [],
   "source": [
    "IMAGE_SIZE = (227, 227) # Standardising the size for all images\n",
    "data_transform = transforms.Compose([\n",
    "    transforms.Resize(IMAGE_SIZE),\n",
    "    transforms.ToTensor(),\n",
    "    transforms.RandomHorizontalFlip(), # Random flips\n",
    "    ])\n",
    "\n",
    "train_dataset = MarsImgDataset(train_df, data_transform)\n",
    "test_dataset = MarsImgDataset(test_df, data_transform)\n",
    "\n",
    "train_loader = DataLoader(dataset=train_dataset, batch_size=10, shuffle=True) # Initialise Training Loader\n",
    "test_loader = DataLoader(dataset=test_dataset, batch_size=10, shuffle=True) # Initialise Testing Loader"
   ]
  },
  {
   "cell_type": "code",
   "execution_count": null,
   "metadata": {},
   "outputs": [],
   "source": [
    "## Check the dataloaders by plotting the imported images\n",
    "img, label = next(iter(test_loader))\n",
    "figure, axis = plt.subplots(2,2)\n",
    "\n",
    "axis[0,0].imshow(img[0].permute(1,2,0), cmap = 'Greys_r')\n",
    "axis[0,0].set_title(int_to_label_map[label[0].item()])\n",
    "\n",
    "axis[0,1].imshow(img[1].permute(1,2,0), cmap = 'Greys_r')\n",
    "axis[0,1].set_title(int_to_label_map[label[1].item()])\n",
    "\n",
    "axis[1,0].imshow(img[2].permute(1,2,0), cmap = 'Greys_r')\n",
    "axis[1,0].set_title(int_to_label_map[label[2].item()])\n",
    "\n",
    "axis[1,1].imshow(img[3].permute(1,2,0), cmap = 'Greys_r')\n",
    "axis[1,1].set_title(int_to_label_map[label[3].item()])\n",
    "\n",
    "plt.subplots_adjust(\n",
    "    left=0.1, bottom=0.1, right=0.9, top=0.9, wspace=0.4, hspace=0.4\n",
    ")\n",
    "\n",
    "plt.show()\n"
   ]
  },
  {
   "cell_type": "code",
   "execution_count": null,
   "metadata": {},
   "outputs": [],
   "source": []
  }
 ],
 "metadata": {
  "kernelspec": {
   "display_name": "Python 3",
   "language": "python",
   "name": "python3"
  },
  "language_info": {
   "codemirror_mode": {
    "name": "ipython",
    "version": 3
   },
   "file_extension": ".py",
   "mimetype": "text/x-python",
   "name": "python",
   "nbconvert_exporter": "python",
   "pygments_lexer": "ipython3",
   "version": "3.12.3"
  }
 },
 "nbformat": 4,
 "nbformat_minor": 2
}
